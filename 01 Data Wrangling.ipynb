{
 "cells": [
  {
   "cell_type": "markdown",
   "metadata": {},
   "source": [
    "## Data Wrangling: Collecting and Cleaning Data\n",
    "\n",
    "Data for this project is sourced from Kaggle at https://www.kaggle.com/lakshmikalyan/lead-scoring-x-online-education and contains simulated leads information created by UpGrad-IIIT-B for instructive purposes.\n",
    "\n"
   ]
  },
  {
   "cell_type": "code",
   "execution_count": 90,
   "metadata": {},
   "outputs": [],
   "source": [
    "import pandas as pd\n",
    "import numpy as np\n",
    "import matplotlib.pyplot as plt\n",
    "import seaborn as sns"
   ]
  },
  {
   "cell_type": "code",
   "execution_count": 91,
   "metadata": {},
   "outputs": [
    {
     "data": {
      "text/html": [
       "<div>\n",
       "<style scoped>\n",
       "    .dataframe tbody tr th:only-of-type {\n",
       "        vertical-align: middle;\n",
       "    }\n",
       "\n",
       "    .dataframe tbody tr th {\n",
       "        vertical-align: top;\n",
       "    }\n",
       "\n",
       "    .dataframe thead th {\n",
       "        text-align: right;\n",
       "    }\n",
       "</style>\n",
       "<table border=\"1\" class=\"dataframe\">\n",
       "  <thead>\n",
       "    <tr style=\"text-align: right;\">\n",
       "      <th></th>\n",
       "      <th>Prospect ID</th>\n",
       "      <th>Lead Number</th>\n",
       "      <th>Lead Origin</th>\n",
       "      <th>Lead Source</th>\n",
       "      <th>Do Not Email</th>\n",
       "      <th>Do Not Call</th>\n",
       "      <th>Converted</th>\n",
       "      <th>TotalVisits</th>\n",
       "      <th>Total Time Spent on Website</th>\n",
       "      <th>Page Views Per Visit</th>\n",
       "      <th>...</th>\n",
       "      <th>Get updates on DM Content</th>\n",
       "      <th>Lead Profile</th>\n",
       "      <th>City</th>\n",
       "      <th>Asymmetrique Activity Index</th>\n",
       "      <th>Asymmetrique Profile Index</th>\n",
       "      <th>Asymmetrique Activity Score</th>\n",
       "      <th>Asymmetrique Profile Score</th>\n",
       "      <th>I agree to pay the amount through cheque</th>\n",
       "      <th>A free copy of Mastering The Interview</th>\n",
       "      <th>Last Notable Activity</th>\n",
       "    </tr>\n",
       "  </thead>\n",
       "  <tbody>\n",
       "    <tr>\n",
       "      <th>0</th>\n",
       "      <td>7927b2df-8bba-4d29-b9a2-b6e0beafe620</td>\n",
       "      <td>660737</td>\n",
       "      <td>API</td>\n",
       "      <td>Olark Chat</td>\n",
       "      <td>No</td>\n",
       "      <td>No</td>\n",
       "      <td>0</td>\n",
       "      <td>0.0</td>\n",
       "      <td>0</td>\n",
       "      <td>0.0</td>\n",
       "      <td>...</td>\n",
       "      <td>No</td>\n",
       "      <td>Select</td>\n",
       "      <td>Select</td>\n",
       "      <td>02.Medium</td>\n",
       "      <td>02.Medium</td>\n",
       "      <td>15.0</td>\n",
       "      <td>15.0</td>\n",
       "      <td>No</td>\n",
       "      <td>No</td>\n",
       "      <td>Modified</td>\n",
       "    </tr>\n",
       "    <tr>\n",
       "      <th>1</th>\n",
       "      <td>2a272436-5132-4136-86fa-dcc88c88f482</td>\n",
       "      <td>660728</td>\n",
       "      <td>API</td>\n",
       "      <td>Organic Search</td>\n",
       "      <td>No</td>\n",
       "      <td>No</td>\n",
       "      <td>0</td>\n",
       "      <td>5.0</td>\n",
       "      <td>674</td>\n",
       "      <td>2.5</td>\n",
       "      <td>...</td>\n",
       "      <td>No</td>\n",
       "      <td>Select</td>\n",
       "      <td>Select</td>\n",
       "      <td>02.Medium</td>\n",
       "      <td>02.Medium</td>\n",
       "      <td>15.0</td>\n",
       "      <td>15.0</td>\n",
       "      <td>No</td>\n",
       "      <td>No</td>\n",
       "      <td>Email Opened</td>\n",
       "    </tr>\n",
       "  </tbody>\n",
       "</table>\n",
       "<p>2 rows × 37 columns</p>\n",
       "</div>"
      ],
      "text/plain": [
       "                            Prospect ID  Lead Number Lead Origin  \\\n",
       "0  7927b2df-8bba-4d29-b9a2-b6e0beafe620       660737         API   \n",
       "1  2a272436-5132-4136-86fa-dcc88c88f482       660728         API   \n",
       "\n",
       "      Lead Source Do Not Email Do Not Call  Converted  TotalVisits  \\\n",
       "0      Olark Chat           No          No          0          0.0   \n",
       "1  Organic Search           No          No          0          5.0   \n",
       "\n",
       "   Total Time Spent on Website  Page Views Per Visit  ...  \\\n",
       "0                            0                   0.0  ...   \n",
       "1                          674                   2.5  ...   \n",
       "\n",
       "  Get updates on DM Content Lead Profile    City Asymmetrique Activity Index  \\\n",
       "0                        No       Select  Select                   02.Medium   \n",
       "1                        No       Select  Select                   02.Medium   \n",
       "\n",
       "  Asymmetrique Profile Index Asymmetrique Activity Score  \\\n",
       "0                  02.Medium                        15.0   \n",
       "1                  02.Medium                        15.0   \n",
       "\n",
       "  Asymmetrique Profile Score I agree to pay the amount through cheque  \\\n",
       "0                       15.0                                       No   \n",
       "1                       15.0                                       No   \n",
       "\n",
       "  A free copy of Mastering The Interview Last Notable Activity  \n",
       "0                                     No              Modified  \n",
       "1                                     No          Email Opened  \n",
       "\n",
       "[2 rows x 37 columns]"
      ]
     },
     "execution_count": 91,
     "metadata": {},
     "output_type": "execute_result"
    }
   ],
   "source": [
    "leads_raw = pd.read_csv('Leads_X_Education.csv')\n",
    "\n",
    "leads_raw.head(2)"
   ]
  },
  {
   "cell_type": "code",
   "execution_count": 92,
   "metadata": {},
   "outputs": [
    {
     "name": "stdout",
     "output_type": "stream",
     "text": [
      "<class 'pandas.core.frame.DataFrame'>\n",
      "RangeIndex: 9240 entries, 0 to 9239\n",
      "Data columns (total 37 columns):\n",
      " #   Column                                         Non-Null Count  Dtype  \n",
      "---  ------                                         --------------  -----  \n",
      " 0   Prospect ID                                    9240 non-null   object \n",
      " 1   Lead Number                                    9240 non-null   int64  \n",
      " 2   Lead Origin                                    9240 non-null   object \n",
      " 3   Lead Source                                    9204 non-null   object \n",
      " 4   Do Not Email                                   9240 non-null   object \n",
      " 5   Do Not Call                                    9240 non-null   object \n",
      " 6   Converted                                      9240 non-null   int64  \n",
      " 7   TotalVisits                                    9103 non-null   float64\n",
      " 8   Total Time Spent on Website                    9240 non-null   int64  \n",
      " 9   Page Views Per Visit                           9103 non-null   float64\n",
      " 10  Last Activity                                  9137 non-null   object \n",
      " 11  Country                                        6779 non-null   object \n",
      " 12  Specialization                                 7802 non-null   object \n",
      " 13  How did you hear about X Education             7033 non-null   object \n",
      " 14  What is your current occupation                6550 non-null   object \n",
      " 15  What matters most to you in choosing a course  6531 non-null   object \n",
      " 16  Search                                         9240 non-null   object \n",
      " 17  Magazine                                       9240 non-null   object \n",
      " 18  Newspaper Article                              9240 non-null   object \n",
      " 19  X Education Forums                             9240 non-null   object \n",
      " 20  Newspaper                                      9240 non-null   object \n",
      " 21  Digital Advertisement                          9240 non-null   object \n",
      " 22  Through Recommendations                        9240 non-null   object \n",
      " 23  Receive More Updates About Our Courses         9240 non-null   object \n",
      " 24  Tags                                           5887 non-null   object \n",
      " 25  Lead Quality                                   4473 non-null   object \n",
      " 26  Update me on Supply Chain Content              9240 non-null   object \n",
      " 27  Get updates on DM Content                      9240 non-null   object \n",
      " 28  Lead Profile                                   6531 non-null   object \n",
      " 29  City                                           7820 non-null   object \n",
      " 30  Asymmetrique Activity Index                    5022 non-null   object \n",
      " 31  Asymmetrique Profile Index                     5022 non-null   object \n",
      " 32  Asymmetrique Activity Score                    5022 non-null   float64\n",
      " 33  Asymmetrique Profile Score                     5022 non-null   float64\n",
      " 34  I agree to pay the amount through cheque       9240 non-null   object \n",
      " 35  A free copy of Mastering The Interview         9240 non-null   object \n",
      " 36  Last Notable Activity                          9240 non-null   object \n",
      "dtypes: float64(4), int64(3), object(30)\n",
      "memory usage: 2.6+ MB\n"
     ]
    }
   ],
   "source": [
    "leads_raw.info()"
   ]
  },
  {
   "cell_type": "markdown",
   "metadata": {},
   "source": [
    "First, I will rename the columns for easier manipulation.\n",
    "\n",
    "After looking at the data dictionary, it is clear that most or all of the object-type columns are either categorical or boolean values. Additionally, many columns include the value 'Select' which represents a null value (the lead did not select an answer)."
   ]
  },
  {
   "cell_type": "code",
   "execution_count": 93,
   "metadata": {},
   "outputs": [
    {
     "data": {
      "text/html": [
       "<div>\n",
       "<style scoped>\n",
       "    .dataframe tbody tr th:only-of-type {\n",
       "        vertical-align: middle;\n",
       "    }\n",
       "\n",
       "    .dataframe tbody tr th {\n",
       "        vertical-align: top;\n",
       "    }\n",
       "\n",
       "    .dataframe thead th {\n",
       "        text-align: right;\n",
       "    }\n",
       "</style>\n",
       "<table border=\"1\" class=\"dataframe\">\n",
       "  <thead>\n",
       "    <tr style=\"text-align: right;\">\n",
       "      <th></th>\n",
       "      <th>prospectID</th>\n",
       "      <th>lead_number</th>\n",
       "      <th>origin</th>\n",
       "      <th>source</th>\n",
       "      <th>no_email</th>\n",
       "      <th>no_call</th>\n",
       "      <th>converted</th>\n",
       "      <th>visits</th>\n",
       "      <th>visit_time</th>\n",
       "      <th>visit_pages</th>\n",
       "      <th>...</th>\n",
       "      <th>dm_updates</th>\n",
       "      <th>profile</th>\n",
       "      <th>city</th>\n",
       "      <th>activity_index</th>\n",
       "      <th>profile_index</th>\n",
       "      <th>activity_score</th>\n",
       "      <th>profile_score</th>\n",
       "      <th>cheque</th>\n",
       "      <th>mti_copy</th>\n",
       "      <th>last_notable</th>\n",
       "    </tr>\n",
       "  </thead>\n",
       "  <tbody>\n",
       "    <tr>\n",
       "      <th>0</th>\n",
       "      <td>7927b2df-8bba-4d29-b9a2-b6e0beafe620</td>\n",
       "      <td>660737</td>\n",
       "      <td>API</td>\n",
       "      <td>Olark Chat</td>\n",
       "      <td>No</td>\n",
       "      <td>No</td>\n",
       "      <td>0</td>\n",
       "      <td>0.0</td>\n",
       "      <td>0</td>\n",
       "      <td>0.0</td>\n",
       "      <td>...</td>\n",
       "      <td>No</td>\n",
       "      <td>Select</td>\n",
       "      <td>Select</td>\n",
       "      <td>02.Medium</td>\n",
       "      <td>02.Medium</td>\n",
       "      <td>15.0</td>\n",
       "      <td>15.0</td>\n",
       "      <td>No</td>\n",
       "      <td>No</td>\n",
       "      <td>Modified</td>\n",
       "    </tr>\n",
       "  </tbody>\n",
       "</table>\n",
       "<p>1 rows × 37 columns</p>\n",
       "</div>"
      ],
      "text/plain": [
       "                             prospectID  lead_number origin      source  \\\n",
       "0  7927b2df-8bba-4d29-b9a2-b6e0beafe620       660737    API  Olark Chat   \n",
       "\n",
       "  no_email no_call  converted  visits  visit_time  visit_pages  ...  \\\n",
       "0       No      No          0     0.0           0          0.0  ...   \n",
       "\n",
       "  dm_updates profile    city activity_index profile_index activity_score  \\\n",
       "0         No  Select  Select      02.Medium     02.Medium           15.0   \n",
       "\n",
       "  profile_score cheque mti_copy last_notable  \n",
       "0          15.0     No       No     Modified  \n",
       "\n",
       "[1 rows x 37 columns]"
      ]
     },
     "execution_count": 93,
     "metadata": {},
     "output_type": "execute_result"
    }
   ],
   "source": [
    "new_colnames = ['prospectID', 'lead_number', 'origin', 'source', 'no_email', 'no_call', 'converted', 'visits',\n",
    "                'visit_time', 'visit_pages', 'last_activity', 'country', 'specialization', 'hear_about', 'occupation',\n",
    "                'matters_most', 'search', 'magazine', 'news_article', 'forums', 'newspaper', 'digital_ad',\n",
    "                'recommendations', 'updates', 'tags', 'quality', 'scc_updates', 'dm_updates', 'profile', 'city', \n",
    "                'activity_index', 'profile_index', 'activity_score', 'profile_score', 'cheque', 'mti_copy', 'last_notable']\n",
    "\n",
    "rename_dict = dict(zip(leads_raw.columns, new_colnames))\n",
    "\n",
    "leads = leads_raw.rename(rename_dict, axis=1)\n",
    "leads.head(1)"
   ]
  },
  {
   "cell_type": "code",
   "execution_count": 94,
   "metadata": {},
   "outputs": [],
   "source": [
    "leads = leads.replace('Select', np.nan);"
   ]
  },
  {
   "cell_type": "code",
   "execution_count": 95,
   "metadata": {},
   "outputs": [
    {
     "name": "stdout",
     "output_type": "stream",
     "text": [
      "<class 'pandas.core.frame.DataFrame'>\n",
      "RangeIndex: 9240 entries, 0 to 9239\n",
      "Data columns (total 37 columns):\n",
      " #   Column           Non-Null Count  Dtype  \n",
      "---  ------           --------------  -----  \n",
      " 0   prospectID       9240 non-null   object \n",
      " 1   lead_number      9240 non-null   int64  \n",
      " 2   origin           9240 non-null   object \n",
      " 3   source           9204 non-null   object \n",
      " 4   no_email         9240 non-null   bool   \n",
      " 5   no_call          9240 non-null   bool   \n",
      " 6   converted        9240 non-null   int64  \n",
      " 7   visits           9103 non-null   float64\n",
      " 8   visit_time       9240 non-null   int64  \n",
      " 9   visit_pages      9103 non-null   float64\n",
      " 10  last_activity    9137 non-null   object \n",
      " 11  country          6779 non-null   object \n",
      " 12  specialization   5860 non-null   object \n",
      " 13  hear_about       1990 non-null   object \n",
      " 14  occupation       6550 non-null   object \n",
      " 15  matters_most     6531 non-null   object \n",
      " 16  search           9240 non-null   bool   \n",
      " 17  magazine         9240 non-null   bool   \n",
      " 18  news_article     9240 non-null   bool   \n",
      " 19  forums           9240 non-null   bool   \n",
      " 20  newspaper        9240 non-null   bool   \n",
      " 21  digital_ad       9240 non-null   bool   \n",
      " 22  recommendations  9240 non-null   bool   \n",
      " 23  updates          9240 non-null   bool   \n",
      " 24  tags             5887 non-null   object \n",
      " 25  quality          4473 non-null   object \n",
      " 26  scc_updates      9240 non-null   bool   \n",
      " 27  dm_updates       9240 non-null   bool   \n",
      " 28  profile          2385 non-null   object \n",
      " 29  city             5571 non-null   object \n",
      " 30  activity_index   5022 non-null   object \n",
      " 31  profile_index    5022 non-null   object \n",
      " 32  activity_score   5022 non-null   float64\n",
      " 33  profile_score    5022 non-null   float64\n",
      " 34  cheque           9240 non-null   bool   \n",
      " 35  mti_copy         9240 non-null   bool   \n",
      " 36  last_notable     9240 non-null   object \n",
      "dtypes: bool(14), float64(4), int64(3), object(16)\n",
      "memory usage: 1.7+ MB\n"
     ]
    }
   ],
   "source": [
    "leads.replace(('Yes', 'No'), (True, False), inplace=True)\n",
    "leads.info()"
   ]
  },
  {
   "cell_type": "markdown",
   "metadata": {},
   "source": [
    "Let's check our dependent variable (converted), as well as each column's values to assess which features to drop"
   ]
  },
  {
   "cell_type": "code",
   "execution_count": 96,
   "metadata": {},
   "outputs": [
    {
     "data": {
      "text/plain": [
       "0    5679\n",
       "1    3561\n",
       "Name: converted, dtype: int64"
      ]
     },
     "execution_count": 96,
     "metadata": {},
     "output_type": "execute_result"
    }
   ],
   "source": [
    "leads.converted.value_counts()"
   ]
  },
  {
   "cell_type": "code",
   "execution_count": 97,
   "metadata": {
    "scrolled": false
   },
   "outputs": [
    {
     "name": "stdout",
     "output_type": "stream",
     "text": [
      "prospectID : 9240\n",
      "lead_number : 9240\n",
      "origin : 5\n",
      "source : 21\n",
      "no_email : 2\n",
      "no_call : 2\n",
      "converted : 2\n",
      "visits : 41\n",
      "visit_time : 1731\n",
      "visit_pages : 114\n",
      "last_activity : 17\n",
      "country : 38\n",
      "specialization : 18\n",
      "hear_about : 9\n",
      "occupation : 6\n",
      "matters_most : 3\n",
      "search : 2\n",
      "magazine : 1\n",
      "news_article : 2\n",
      "forums : 2\n",
      "newspaper : 2\n",
      "digital_ad : 2\n",
      "recommendations : 2\n",
      "updates : 1\n",
      "tags : 26\n",
      "quality : 5\n",
      "scc_updates : 1\n",
      "dm_updates : 1\n",
      "profile : 5\n",
      "city : 6\n",
      "activity_index : 3\n",
      "profile_index : 3\n",
      "activity_score : 12\n",
      "profile_score : 10\n",
      "cheque : 1\n",
      "mti_copy : 2\n",
      "last_notable : 16\n"
     ]
    }
   ],
   "source": [
    "for col in leads.columns:\n",
    "    print(col, ':', leads[col].nunique())"
   ]
  },
  {
   "cell_type": "markdown",
   "metadata": {},
   "source": [
    "Prospect ID and Lead Number columns are both unique identifiers. For the purposes of this project, we do not need both."
   ]
  },
  {
   "cell_type": "code",
   "execution_count": 98,
   "metadata": {},
   "outputs": [],
   "source": [
    "leads.drop('prospectID', axis=1, inplace=True)"
   ]
  },
  {
   "cell_type": "markdown",
   "metadata": {},
   "source": [
    "Five columns have only one unique value (and no null values), so they cannot help in our model and should be dropped."
   ]
  },
  {
   "cell_type": "code",
   "execution_count": 99,
   "metadata": {},
   "outputs": [
    {
     "data": {
      "text/plain": [
       "(9240, 31)"
      ]
     },
     "execution_count": 99,
     "metadata": {},
     "output_type": "execute_result"
    }
   ],
   "source": [
    "onevalcols = ['magazine', 'updates', 'scc_updates', 'dm_updates', 'cheque']\n",
    "leads.drop(onevalcols, axis=1, inplace=True)\n",
    "leads.shape"
   ]
  },
  {
   "cell_type": "markdown",
   "metadata": {},
   "source": [
    "Next, we'll go through each column and decide how to handle it. Let's work through the list by data type, since we will be performing similar operations on multiple columns of each type.\n",
    "\n",
    "## Boolean Columns\n",
    "Some of the bool type columns have such high uniformity that they are not useful. We'll check the value counts and drop irrelevant columns, with a cutoff of at least 5 'True' responses."
   ]
  },
  {
   "cell_type": "code",
   "execution_count": 100,
   "metadata": {},
   "outputs": [
    {
     "name": "stdout",
     "output_type": "stream",
     "text": [
      "False    8506\n",
      "True      734\n",
      "Name: no_email, dtype: int64 \n",
      "\n",
      "False    9238\n",
      "True        2\n",
      "Name: no_call, dtype: int64 \n",
      "\n",
      "False    9226\n",
      "True       14\n",
      "Name: search, dtype: int64 \n",
      "\n",
      "False    9238\n",
      "True        2\n",
      "Name: news_article, dtype: int64 \n",
      "\n",
      "False    9239\n",
      "True        1\n",
      "Name: forums, dtype: int64 \n",
      "\n",
      "False    9239\n",
      "True        1\n",
      "Name: newspaper, dtype: int64 \n",
      "\n",
      "False    9236\n",
      "True        4\n",
      "Name: digital_ad, dtype: int64 \n",
      "\n",
      "False    9233\n",
      "True        7\n",
      "Name: recommendations, dtype: int64 \n",
      "\n",
      "False    6352\n",
      "True     2888\n",
      "Name: mti_copy, dtype: int64 \n",
      "\n"
     ]
    }
   ],
   "source": [
    "bools = leads.select_dtypes('bool')\n",
    "for col in bools.columns:\n",
    "    print(bools[col].value_counts(), '\\n')"
   ]
  },
  {
   "cell_type": "code",
   "execution_count": 101,
   "metadata": {},
   "outputs": [],
   "source": [
    "leads.drop(['no_call', 'news_article', 'forums', 'newspaper', 'digital_ad'],axis=1, inplace=True)"
   ]
  },
  {
   "cell_type": "markdown",
   "metadata": {},
   "source": [
    "## Numerical Columns\n",
    "We basically have two groups of numerical value columns with missing values in our dataset. The first includes visits and visit_pages, which describe leads' interactions with the website. Rather than imputing with the median, I think is it more reasonable to assume null values represent 0 (no value recorded if there were no page visits), which is also the mode of each of these columns. Of course this may depend on how the data was collected, and in a real-world scenario we should investigate why these values are missing. The column visit_time has no null values and needs no changes.\n",
    "\n",
    "The second group includes activity_score and profile_score. Nearly half of the data is missing for these columns, yet the information we have could be extremely helpful. One way to handle the data is to impute missing values as 'Unknown' and treat the column as categorical. We will look closer at these values later."
   ]
  },
  {
   "cell_type": "code",
   "execution_count": 102,
   "metadata": {},
   "outputs": [],
   "source": [
    "leads.visits.replace(np.nan, 0, inplace=True)\n",
    "leads.visit_pages.replace(np.nan, 0, inplace=True)"
   ]
  },
  {
   "cell_type": "markdown",
   "metadata": {},
   "source": [
    "## Text (Categorical) Columns\n",
    "For each column we will inspect the value counts and judge whether the column has enough useful information. If so, missing and low-count values (less than 10 entries) can be consolidated and relabeled as 'Other/Unknown'. We'll write a function to do this easily."
   ]
  },
  {
   "cell_type": "code",
   "execution_count": 103,
   "metadata": {},
   "outputs": [],
   "source": [
    "def add_other(column):\n",
    "    \"\"\"Takes a pd Series, relabels all null values and values with count less than 10 as 'Other/Unknown'\"\"\"\n",
    "    # Replace NaN\n",
    "    column = column.replace(np.nan, 'Other/Unknown')\n",
    "    # Create list of categories to label as 'Other'\n",
    "    other_cats = [val for val in column.unique() if column.value_counts()[val] < 10]\n",
    "    # Some columns already include an 'Other' category, which we should include in our list\n",
    "    other_cats.append('Other')    \n",
    "    column = column.replace(other_cats, 'Other/Unknown')\n",
    "    return column\n",
    "\n",
    "def check_other(column):\n",
    "    \"\"\"Displays column values and percentage of 'Other/Unknown' values\"\"\"\n",
    "    unknown_pct = round(column.value_counts()['Other/Unknown']/len(column)*100, 2)\n",
    "    print(column.value_counts(), '\\n\\nPercent \\'Other/Unknown\\':', unknown_pct)"
   ]
  },
  {
   "cell_type": "markdown",
   "metadata": {},
   "source": [
    "#### Lead Source"
   ]
  },
  {
   "cell_type": "code",
   "execution_count": 104,
   "metadata": {
    "scrolled": false
   },
   "outputs": [
    {
     "name": "stdout",
     "output_type": "stream",
     "text": [
      "Google               2868\n",
      "Direct Traffic       2543\n",
      "Olark Chat           1755\n",
      "Organic Search       1154\n",
      "Reference             534\n",
      "Welingak Website      142\n",
      "Referral Sites        125\n",
      "Facebook               55\n",
      "NaN                    36\n",
      "bing                    6\n",
      "google                  5\n",
      "Click2call              4\n",
      "Live Chat               2\n",
      "Social Media            2\n",
      "Press_Release           2\n",
      "blog                    1\n",
      "testone                 1\n",
      "Pay per Click Ads       1\n",
      "welearnblog_Home        1\n",
      "NC_EDM                  1\n",
      "youtubechannel          1\n",
      "WeLearn                 1\n",
      "Name: source, dtype: int64\n"
     ]
    }
   ],
   "source": [
    "print(leads.source.value_counts(dropna=False))"
   ]
  },
  {
   "cell_type": "code",
   "execution_count": 105,
   "metadata": {},
   "outputs": [
    {
     "name": "stdout",
     "output_type": "stream",
     "text": [
      "Google              2873\n",
      "Direct Traffic      2543\n",
      "Olark Chat          1755\n",
      "Organic Search      1154\n",
      "Reference            534\n",
      "Welingak Website     142\n",
      "Referral Sites       125\n",
      "Other/Unknown         59\n",
      "Facebook              55\n",
      "Name: source, dtype: int64 \n",
      "\n",
      "Percent 'Other/Unknown': 0.64\n"
     ]
    }
   ],
   "source": [
    "# 'Google' and 'google' are the same\n",
    "leads.source.replace('google', 'Google', inplace=True)\n",
    "\n",
    "leads.source = add_other(leads.source)\n",
    "\n",
    "check_other(leads.source)"
   ]
  },
  {
   "cell_type": "markdown",
   "metadata": {},
   "source": [
    "#### Last Activity"
   ]
  },
  {
   "cell_type": "code",
   "execution_count": 106,
   "metadata": {},
   "outputs": [
    {
     "name": "stdout",
     "output_type": "stream",
     "text": [
      "Email Opened                    3437\n",
      "SMS Sent                        2745\n",
      "Olark Chat Conversation          973\n",
      "Page Visited on Website          640\n",
      "Converted to Lead                428\n",
      "Email Bounced                    326\n",
      "Email Link Clicked               267\n",
      "Form Submitted on Website        116\n",
      "NaN                              103\n",
      "Unreachable                       93\n",
      "Unsubscribed                      61\n",
      "Had a Phone Conversation          30\n",
      "Approached upfront                 9\n",
      "View in browser link Clicked       6\n",
      "Email Received                     2\n",
      "Email Marked Spam                  2\n",
      "Resubscribed to emails             1\n",
      "Visited Booth in Tradeshow         1\n",
      "Name: last_activity, dtype: int64\n"
     ]
    }
   ],
   "source": [
    "print(leads.last_activity.value_counts(dropna=False))"
   ]
  },
  {
   "cell_type": "code",
   "execution_count": 107,
   "metadata": {},
   "outputs": [
    {
     "name": "stdout",
     "output_type": "stream",
     "text": [
      "Email Opened                 3437\n",
      "SMS Sent                     2745\n",
      "Olark Chat Conversation       973\n",
      "Page Visited on Website       640\n",
      "Converted to Lead             428\n",
      "Email Bounced                 326\n",
      "Email Link Clicked            267\n",
      "Other/Unknown                 124\n",
      "Form Submitted on Website     116\n",
      "Unreachable                    93\n",
      "Unsubscribed                   61\n",
      "Had a Phone Conversation       30\n",
      "Name: last_activity, dtype: int64 \n",
      "\n",
      "Percent 'Other/Unknown': 1.34\n"
     ]
    }
   ],
   "source": [
    "leads.last_activity = add_other(leads.last_activity)\n",
    "check_other(leads.last_activity)"
   ]
  },
  {
   "cell_type": "markdown",
   "metadata": {},
   "source": [
    "#### Country"
   ]
  },
  {
   "cell_type": "code",
   "execution_count": 108,
   "metadata": {},
   "outputs": [
    {
     "data": {
      "text/plain": [
       "India                   6492\n",
       "NaN                     2461\n",
       "United States             69\n",
       "United Arab Emirates      53\n",
       "Singapore                 24\n",
       "Saudi Arabia              21\n",
       "United Kingdom            15\n",
       "Australia                 13\n",
       "Qatar                     10\n",
       "Bahrain                    7\n",
       "Hong Kong                  7\n",
       "Oman                       6\n",
       "France                     6\n",
       "unknown                    5\n",
       "South Africa               4\n",
       "Canada                     4\n",
       "Germany                    4\n",
       "Nigeria                    4\n",
       "Kuwait                     4\n",
       "Sweden                     3\n",
       "Bangladesh                 2\n",
       "Italy                      2\n",
       "Philippines                2\n",
       "Uganda                     2\n",
       "Belgium                    2\n",
       "Ghana                      2\n",
       "China                      2\n",
       "Asia/Pacific Region        2\n",
       "Netherlands                2\n",
       "Sri Lanka                  1\n",
       "Malaysia                   1\n",
       "Indonesia                  1\n",
       "Vietnam                    1\n",
       "Kenya                      1\n",
       "Liberia                    1\n",
       "Tanzania                   1\n",
       "Denmark                    1\n",
       "Russia                     1\n",
       "Switzerland                1\n",
       "Name: country, dtype: int64"
      ]
     },
     "execution_count": 108,
     "metadata": {},
     "output_type": "execute_result"
    }
   ],
   "source": [
    "leads.country.value_counts(dropna=False)"
   ]
  },
  {
   "cell_type": "code",
   "execution_count": 109,
   "metadata": {},
   "outputs": [
    {
     "data": {
      "text/plain": [
       "India                   6492\n",
       "Other/Unknown           2543\n",
       "United States             69\n",
       "United Arab Emirates      53\n",
       "Singapore                 24\n",
       "Saudi Arabia              21\n",
       "United Kingdom            15\n",
       "Australia                 13\n",
       "Qatar                     10\n",
       "Name: country, dtype: int64"
      ]
     },
     "execution_count": 109,
     "metadata": {},
     "output_type": "execute_result"
    }
   ],
   "source": [
    "leads.country = add_other(leads.country)\n",
    "leads.country.value_counts()"
   ]
  },
  {
   "cell_type": "markdown",
   "metadata": {},
   "source": [
    "#### Specialization\n",
    "From the Data Dictionary: \"The industry domain in which the customer worked before.\""
   ]
  },
  {
   "cell_type": "code",
   "execution_count": 110,
   "metadata": {},
   "outputs": [
    {
     "data": {
      "text/plain": [
       "NaN                                  3380\n",
       "Finance Management                    976\n",
       "Human Resource Management             848\n",
       "Marketing Management                  838\n",
       "Operations Management                 503\n",
       "Business Administration               403\n",
       "IT Projects Management                366\n",
       "Supply Chain Management               349\n",
       "Banking, Investment And Insurance     338\n",
       "Media and Advertising                 203\n",
       "Travel and Tourism                    203\n",
       "International Business                178\n",
       "Healthcare Management                 159\n",
       "Hospitality Management                114\n",
       "E-COMMERCE                            112\n",
       "Retail Management                     100\n",
       "Rural and Agribusiness                 73\n",
       "E-Business                             57\n",
       "Services Excellence                    40\n",
       "Name: specialization, dtype: int64"
      ]
     },
     "execution_count": 110,
     "metadata": {},
     "output_type": "execute_result"
    }
   ],
   "source": [
    "leads.specialization.value_counts(dropna=False)"
   ]
  },
  {
   "cell_type": "code",
   "execution_count": 111,
   "metadata": {},
   "outputs": [
    {
     "name": "stdout",
     "output_type": "stream",
     "text": [
      "Percent Unknown: 36.58\n"
     ]
    }
   ],
   "source": [
    "#No low-count columns to consolidate, only need to replace NaNs\n",
    "leads.specialization.replace(np.nan, 'Unknown', inplace=True)\n",
    "print(\"Percent Unknown:\", round(3380/len(leads.specialization)*100, 2))"
   ]
  },
  {
   "cell_type": "markdown",
   "metadata": {},
   "source": [
    "#### How did you hear about X Education"
   ]
  },
  {
   "cell_type": "code",
   "execution_count": 112,
   "metadata": {},
   "outputs": [
    {
     "data": {
      "text/plain": [
       "NaN                      7250\n",
       "Online Search             808\n",
       "Word Of Mouth             348\n",
       "Student of SomeSchool     310\n",
       "Other                     186\n",
       "Multiple Sources          152\n",
       "Advertisements             70\n",
       "Social Media               67\n",
       "Email                      26\n",
       "SMS                        23\n",
       "Name: hear_about, dtype: int64"
      ]
     },
     "execution_count": 112,
     "metadata": {},
     "output_type": "execute_result"
    }
   ],
   "source": [
    "leads.hear_about.value_counts(dropna=False)"
   ]
  },
  {
   "cell_type": "code",
   "execution_count": 113,
   "metadata": {},
   "outputs": [],
   "source": [
    "# This column has too many null values (in addition to 'Other') and must be dropped.\n",
    "leads = leads.drop('hear_about', axis=1)"
   ]
  },
  {
   "cell_type": "markdown",
   "metadata": {},
   "source": [
    "#### Current Occupation"
   ]
  },
  {
   "cell_type": "code",
   "execution_count": 114,
   "metadata": {},
   "outputs": [
    {
     "data": {
      "text/plain": [
       "Unemployed              5600\n",
       "NaN                     2690\n",
       "Working Professional     706\n",
       "Student                  210\n",
       "Other                     16\n",
       "Housewife                 10\n",
       "Businessman                8\n",
       "Name: occupation, dtype: int64"
      ]
     },
     "execution_count": 114,
     "metadata": {},
     "output_type": "execute_result"
    }
   ],
   "source": [
    "leads.occupation.value_counts(dropna=False)"
   ]
  },
  {
   "cell_type": "code",
   "execution_count": 115,
   "metadata": {},
   "outputs": [
    {
     "name": "stdout",
     "output_type": "stream",
     "text": [
      "Unemployed              5600\n",
      "Other/Unknown           2716\n",
      "Working Professional     714\n",
      "Student                  210\n",
      "Name: occupation, dtype: int64 \n",
      "\n",
      "Percent 'Other/Unknown': 29.39\n"
     ]
    }
   ],
   "source": [
    "# Let's first include 'Businessman' within 'Working Professional' and 'Housewife' with 'Other'\n",
    "leads.occupation.replace({'Businessman':'Working Professional', 'Housewife':'Other'}, inplace=True)\n",
    "leads.occupation = add_other(leads.occupation)\n",
    "check_other(leads.occupation)"
   ]
  },
  {
   "cell_type": "markdown",
   "metadata": {},
   "source": [
    "#### What matters most to you in choosing this course"
   ]
  },
  {
   "cell_type": "code",
   "execution_count": 116,
   "metadata": {},
   "outputs": [
    {
     "data": {
      "text/plain": [
       "Better Career Prospects      6528\n",
       "NaN                          2709\n",
       "Flexibility & Convenience       2\n",
       "Other                           1\n",
       "Name: matters_most, dtype: int64"
      ]
     },
     "execution_count": 116,
     "metadata": {},
     "output_type": "execute_result"
    }
   ],
   "source": [
    "leads.matters_most.value_counts(dropna=False)"
   ]
  },
  {
   "cell_type": "code",
   "execution_count": 117,
   "metadata": {},
   "outputs": [],
   "source": [
    "# This column is not helpful because of high uniformity\n",
    "leads = leads.drop('matters_most', axis=1)"
   ]
  },
  {
   "cell_type": "markdown",
   "metadata": {},
   "source": [
    "#### Tags\n",
    "From the Data Dictionary: \"Tags assigned to customers indicating the current status of the lead.\"\n",
    "\n",
    "This column's categories are difficult to understand without additional knowledge of the company and the methods used. For instance, the values 'Ringing', 'Busy', and 'switched off' sound possibly related to phone calls (and might therefore be consolidated into a category 'No Answer'), but I can't be sure. \n",
    "\n",
    "Other values seem like they would disqualify a lead from converting (eg. 'Lost to EINS', which I assume is a competitor, or 'Diploma holder (Not Eligible)') yet still include converted leads.\n",
    "\n",
    "I will retain this column for our model, although I may not be able to use this feature to make any higher-level conclusion about how X Education could assign or seek out quality leads."
   ]
  },
  {
   "cell_type": "code",
   "execution_count": 118,
   "metadata": {},
   "outputs": [
    {
     "data": {
      "text/plain": [
       "NaN                                                  3353\n",
       "Will revert after reading the email                  2072\n",
       "Ringing                                              1203\n",
       "Interested in other courses                           513\n",
       "Already a student                                     465\n",
       "Closed by Horizzon                                    358\n",
       "switched off                                          240\n",
       "Busy                                                  186\n",
       "Lost to EINS                                          175\n",
       "Not doing further education                           145\n",
       "Interested  in full time MBA                          117\n",
       "Graduation in progress                                111\n",
       "invalid number                                         83\n",
       "Diploma holder (Not Eligible)                          63\n",
       "wrong number given                                     47\n",
       "opp hangup                                             33\n",
       "number not provided                                    27\n",
       "in touch with EINS                                     12\n",
       "Lost to Others                                          7\n",
       "Want to take admission but has financial problems       6\n",
       "Still Thinking                                          6\n",
       "Interested in Next batch                                5\n",
       "In confusion whether part time or DLP                   5\n",
       "Lateral student                                         3\n",
       "University not recognized                               2\n",
       "Shall take in the next coming month                     2\n",
       "Recognition issue (DEC approval)                        1\n",
       "Name: tags, dtype: int64"
      ]
     },
     "execution_count": 118,
     "metadata": {},
     "output_type": "execute_result"
    }
   ],
   "source": [
    "leads.tags.value_counts(dropna=False)"
   ]
  },
  {
   "cell_type": "code",
   "execution_count": 119,
   "metadata": {},
   "outputs": [
    {
     "name": "stdout",
     "output_type": "stream",
     "text": [
      "Other/Unknown                          3390\n",
      "Will revert after reading the email    2072\n",
      "Ringing                                1203\n",
      "Looking elsewhere                       630\n",
      "Already a student                       465\n",
      "Closed by Horizzon                      358\n",
      "switched off                            240\n",
      "Busy                                    186\n",
      "Lost to EINS                            175\n",
      "Invalid number                          157\n",
      "Not doing further education             145\n",
      "Graduation in progress                  111\n",
      "Diploma holder (Not Eligible)            63\n",
      "opp hangup                               33\n",
      "in touch with EINS                       12\n",
      "Name: tags, dtype: int64 \n",
      "\n",
      "Percent 'Other/Unknown': 36.69\n"
     ]
    }
   ],
   "source": [
    "leads.tags.replace(['invalid number', 'wrong number given', 'number not provided'], 'Invalid number', inplace=True)\n",
    "leads.tags.replace(['Interested in other courses', 'Interested  in full time MBA'], 'Looking elsewhere', inplace=True)\n",
    "\n",
    "leads.tags = add_other(leads.tags)\n",
    "check_other(leads.tags)"
   ]
  },
  {
   "cell_type": "markdown",
   "metadata": {},
   "source": [
    "#### Lead Quality\n",
    "From the Data Dictionary: \"Indicates the quality of lead based on the data and intuition the the employee who has been assigned to the lead.\""
   ]
  },
  {
   "cell_type": "code",
   "execution_count": 31,
   "metadata": {},
   "outputs": [
    {
     "data": {
      "text/plain": [
       "NaN                  4767\n",
       "Might be             1560\n",
       "Not Sure             1092\n",
       "High in Relevance     637\n",
       "Worst                 601\n",
       "Low in Relevance      583\n",
       "Name: quality, dtype: int64"
      ]
     },
     "execution_count": 31,
     "metadata": {},
     "output_type": "execute_result"
    }
   ],
   "source": [
    "leads.quality.value_counts(dropna=False)"
   ]
  },
  {
   "cell_type": "code",
   "execution_count": 32,
   "metadata": {},
   "outputs": [],
   "source": [
    "# The intuition of the employee could be a great predictor, but unfortunately the high number of NaN and 'Not Sure' values \n",
    "# means this column is not useful. In the future I would encourage staff to complete this field for all leads.\n",
    "leads = leads.drop('quality', axis=1)"
   ]
  },
  {
   "cell_type": "markdown",
   "metadata": {},
   "source": [
    "#### Lead Profile\n",
    "From the Data Dictionary: A lead level assigned to each customer based on their profile."
   ]
  },
  {
   "cell_type": "code",
   "execution_count": 33,
   "metadata": {},
   "outputs": [
    {
     "data": {
      "text/plain": [
       "NaN                            6855\n",
       "Potential Lead                 1613\n",
       "Other Leads                     487\n",
       "Student of SomeSchool           241\n",
       "Lateral Student                  24\n",
       "Dual Specialization Student      20\n",
       "Name: profile, dtype: int64"
      ]
     },
     "execution_count": 33,
     "metadata": {},
     "output_type": "execute_result"
    }
   ],
   "source": [
    "leads.profile.value_counts(dropna=False)"
   ]
  },
  {
   "cell_type": "code",
   "execution_count": 34,
   "metadata": {},
   "outputs": [],
   "source": [
    "# Again, too many NaN values makes the column unhelpful.\n",
    "leads = leads.drop('profile', axis=1)"
   ]
  },
  {
   "cell_type": "markdown",
   "metadata": {},
   "source": [
    "#### City"
   ]
  },
  {
   "cell_type": "code",
   "execution_count": 81,
   "metadata": {},
   "outputs": [
    {
     "data": {
      "text/plain": [
       "NaN                            3669\n",
       "Mumbai                         3222\n",
       "Thane & Outskirts               752\n",
       "Other Cities                    686\n",
       "Other Cities of Maharashtra     457\n",
       "Other Metro Cities              380\n",
       "Tier II Cities                   74\n",
       "Name: city, dtype: int64"
      ]
     },
     "execution_count": 81,
     "metadata": {},
     "output_type": "execute_result"
    }
   ],
   "source": [
    "leads.city.value_counts(dropna=False)"
   ]
  },
  {
   "cell_type": "code",
   "execution_count": 82,
   "metadata": {},
   "outputs": [
    {
     "name": "stdout",
     "output_type": "stream",
     "text": [
      "Unknown                        3669\n",
      "Mumbai                         3222\n",
      "Thane & Outskirts               752\n",
      "Other Cities                    686\n",
      "Other Cities of Maharashtra     457\n",
      "Other Metro Cities              380\n",
      "Tier II Cities                   74\n",
      "Name: city, dtype: int64\n",
      "\n",
      "Percent Unknown: 39.71\n"
     ]
    }
   ],
   "source": [
    "# No low-value columns to consolidate.\n",
    "\n",
    "leads.city.replace(np.nan, 'Unknown', inplace=True)\n",
    "print(leads.city.value_counts())\n",
    "print('\\nPercent Unknown:', round(leads.city.value_counts()['Unknown']/len(leads.city)*100, 2))"
   ]
  },
  {
   "cell_type": "markdown",
   "metadata": {},
   "source": [
    "#### Asymmetrique Activity/Profile Index\n",
    "From the Data Dictionary: \"An index and score assigned to each customer based on their activity and their profile\"\n",
    "\n",
    "This is a lead score that we are trying to improve upon with our model. This score might be very helpful, but needs some restructuring. The Activity Index corresponds to Score values: Low = 0-12, Medium = 13-15, High = 16=20. For the Profile Index, the value 16 is included in the 'Medium' category. However, this still seems inappropriate for the score column, as you can see in the graphs below.\n",
    "\n",
    "Luckily, we can use the Profile Score column to reclassify the Profile Index categories. Then, we can drop the Activity and Profile Score columns, since the data already reflected in our indexes. We can then impute missing values as 'Medium'."
   ]
  },
  {
   "cell_type": "code",
   "execution_count": 37,
   "metadata": {},
   "outputs": [
    {
     "name": "stdout",
     "output_type": "stream",
     "text": [
      "14.0    1771\n",
      "15.0    1293\n",
      "13.0     775\n",
      "16.0     467\n",
      "17.0     349\n",
      "12.0     196\n",
      "11.0      95\n",
      "10.0      57\n",
      "9.0        9\n",
      "18.0       5\n",
      "8.0        4\n",
      "7.0        1\n",
      "Name: activity_score, dtype: int64\n",
      "02.Medium    3839\n",
      "01.High       821\n",
      "03.Low        362\n",
      "Name: activity_index, dtype: int64\n"
     ]
    }
   ],
   "source": [
    "print(leads.activity_score.value_counts())\n",
    "print(leads.activity_index.value_counts())"
   ]
  },
  {
   "cell_type": "code",
   "execution_count": 38,
   "metadata": {},
   "outputs": [
    {
     "name": "stdout",
     "output_type": "stream",
     "text": [
      "15.0    1759\n",
      "18.0    1071\n",
      "16.0     599\n",
      "17.0     579\n",
      "20.0     308\n",
      "19.0     245\n",
      "14.0     226\n",
      "13.0     204\n",
      "12.0      22\n",
      "11.0       9\n",
      "Name: profile_score, dtype: int64\n",
      "02.Medium    2788\n",
      "01.High      2203\n",
      "03.Low         31\n",
      "Name: profile_index, dtype: int64\n"
     ]
    }
   ],
   "source": [
    "print(leads.profile_score.value_counts())\n",
    "print(leads.profile_index.value_counts())"
   ]
  },
  {
   "cell_type": "code",
   "execution_count": 39,
   "metadata": {},
   "outputs": [
    {
     "data": {
      "image/png": "[encoded data removed]",
      "text/plain": [
       "<Figure size 864x288 with 2 Axes>"
      ]
     },
     "metadata": {
      "needs_background": "light"
     },
     "output_type": "display_data"
    }
   ],
   "source": [
    "plt.figure(figsize=(12,4))\n",
    "plt.subplot(1, 2, 1)\n",
    "sns.countplot(x='activity_score', data=leads, color='brown')\n",
    "plt.axvline(5.5, label='low | med')\n",
    "plt.axvline(8.5, c='r', label='med | high')\n",
    "plt.legend()\n",
    "\n",
    "plt.subplot(1, 2, 2)\n",
    "sns.countplot(x='profile_score', data=leads, color='gold')\n",
    "plt.axvline(1.5, label='low | med')\n",
    "plt.axvline(5.5, c='r', label='med | high')\n",
    "plt.legend()\n",
    "plt.show();"
   ]
  },
  {
   "cell_type": "code",
   "execution_count": 40,
   "metadata": {},
   "outputs": [],
   "source": [
    "# A more appropriate Medium category for profile score would range from 15-17.\n",
    "new_profile_index = []\n",
    "for value in leads.profile_score:\n",
    "    if value < 15:\n",
    "        new_profile_index.append('Low')\n",
    "    elif value > 17:\n",
    "        new_profile_index.append('High')\n",
    "    else:\n",
    "        new_profile_index.append('Medium')\n",
    "\n",
    "leads.profile_index = new_profile_index\n",
    "leads.activity_index.replace(np.nan, 'Medium', inplace=True)"
   ]
  },
  {
   "cell_type": "code",
   "execution_count": 41,
   "metadata": {},
   "outputs": [
    {
     "data": {
      "text/plain": [
       "Medium       4218\n",
       "02.Medium    3839\n",
       "01.High       821\n",
       "03.Low        362\n",
       "Name: activity_index, dtype: int64"
      ]
     },
     "execution_count": 41,
     "metadata": {},
     "output_type": "execute_result"
    }
   ],
   "source": [
    "leads.activity_index.value_counts(dropna=False)"
   ]
  },
  {
   "cell_type": "code",
   "execution_count": 42,
   "metadata": {},
   "outputs": [
    {
     "data": {
      "text/plain": [
       "Medium    7155\n",
       "High      1624\n",
       "Low        461\n",
       "Name: profile_index, dtype: int64"
      ]
     },
     "execution_count": 42,
     "metadata": {},
     "output_type": "execute_result"
    }
   ],
   "source": [
    "leads.profile_index.value_counts(dropna=False)"
   ]
  },
  {
   "cell_type": "code",
   "execution_count": 43,
   "metadata": {},
   "outputs": [],
   "source": [
    "leads = leads.drop(['activity_score', 'profile_score'], axis=1)"
   ]
  },
  {
   "cell_type": "markdown",
   "metadata": {},
   "source": [
    "#### Last Notable Activity"
   ]
  },
  {
   "cell_type": "code",
   "execution_count": 44,
   "metadata": {},
   "outputs": [
    {
     "data": {
      "text/plain": [
       "Modified                        3407\n",
       "Email Opened                    2827\n",
       "SMS Sent                        2172\n",
       "Page Visited on Website          318\n",
       "Olark Chat Conversation          183\n",
       "Email Link Clicked               173\n",
       "Email Bounced                     60\n",
       "Unsubscribed                      47\n",
       "Unreachable                       32\n",
       "Had a Phone Conversation          14\n",
       "Email Marked Spam                  2\n",
       "View in browser link Clicked       1\n",
       "Approached upfront                 1\n",
       "Form Submitted on Website          1\n",
       "Resubscribed to emails             1\n",
       "Email Received                     1\n",
       "Name: last_notable, dtype: int64"
      ]
     },
     "execution_count": 44,
     "metadata": {},
     "output_type": "execute_result"
    }
   ],
   "source": [
    "leads.last_notable.value_counts(dropna=False)"
   ]
  },
  {
   "cell_type": "code",
   "execution_count": 45,
   "metadata": {},
   "outputs": [
    {
     "name": "stdout",
     "output_type": "stream",
     "text": [
      "Modified                    3407\n",
      "Email Opened                2827\n",
      "SMS Sent                    2172\n",
      "Page Visited on Website      318\n",
      "Olark Chat Conversation      183\n",
      "Email Link Clicked           173\n",
      "Email Bounced                 60\n",
      "Unsubscribed                  47\n",
      "Unreachable                   32\n",
      "Had a Phone Conversation      14\n",
      "Other/Unknown                  7\n",
      "Name: last_notable, dtype: int64 \n",
      "\n",
      "Percent 'Other/Unknown': 0.08\n"
     ]
    }
   ],
   "source": [
    "leads.last_notable = add_other(leads.last_notable)\n",
    "check_other(leads.last_notable)"
   ]
  },
  {
   "cell_type": "markdown",
   "metadata": {},
   "source": [
    "## Double-checking"
   ]
  },
  {
   "cell_type": "code",
   "execution_count": 46,
   "metadata": {},
   "outputs": [
    {
     "name": "stdout",
     "output_type": "stream",
     "text": [
      "<class 'pandas.core.frame.DataFrame'>\n",
      "RangeIndex: 9240 entries, 0 to 9239\n",
      "Data columns (total 20 columns):\n",
      " #   Column           Non-Null Count  Dtype  \n",
      "---  ------           --------------  -----  \n",
      " 0   lead_number      9240 non-null   int64  \n",
      " 1   origin           9240 non-null   object \n",
      " 2   source           9240 non-null   object \n",
      " 3   no_email         9240 non-null   bool   \n",
      " 4   converted        9240 non-null   int64  \n",
      " 5   visits           9240 non-null   float64\n",
      " 6   visit_time       9240 non-null   int64  \n",
      " 7   visit_pages      9240 non-null   float64\n",
      " 8   last_activity    9240 non-null   object \n",
      " 9   country          9240 non-null   object \n",
      " 10  specialization   9240 non-null   object \n",
      " 11  occupation       9240 non-null   object \n",
      " 12  search           9240 non-null   bool   \n",
      " 13  recommendations  9240 non-null   bool   \n",
      " 14  tags             9240 non-null   object \n",
      " 15  city             9240 non-null   object \n",
      " 16  activity_index   9240 non-null   object \n",
      " 17  profile_index    9240 non-null   object \n",
      " 18  mti_copy         9240 non-null   bool   \n",
      " 19  last_notable     9240 non-null   object \n",
      "dtypes: bool(4), float64(2), int64(3), object(11)\n",
      "memory usage: 1.2+ MB\n"
     ]
    }
   ],
   "source": [
    "leads.info()"
   ]
  },
  {
   "cell_type": "code",
   "execution_count": null,
   "metadata": {},
   "outputs": [],
   "source": []
  }
 ],
 "metadata": {
  "kernelspec": {
   "display_name": "Python 3",
   "language": "python",
   "name": "python3"
  },
  "language_info": {
   "codemirror_mode": {
    "name": "ipython",
    "version": 3
   },
   "file_extension": ".py",
   "mimetype": "text/x-python",
   "name": "python",
   "nbconvert_exporter": "python",
   "pygments_lexer": "ipython3",
   "version": "3.7.6"
  }
 },
 "nbformat": 4,
 "nbformat_minor": 4
}
