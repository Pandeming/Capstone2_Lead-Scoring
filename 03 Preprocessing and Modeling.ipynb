{
 "cells": [
  {
   "cell_type": "markdown",
   "metadata": {},
   "source": [
    "# Preprocessing"
   ]
  },
  {
   "cell_type": "code",
   "execution_count": 1,
   "metadata": {},
   "outputs": [],
   "source": [
    "import pandas as pd\n",
    "import numpy as np\n",
    "import matplotlib.pyplot as plt\n",
    "import seaborn as sns\n",
    "\n",
    "from sklearn.preprocessing import StandardScaler\n",
    "from sklearn.decomposition import PCA\n",
    "from sklearn.model_selection import train_test_split, GridSearchCV\n",
    "from sklearn.linear_model import LogisticRegression\n",
    "from sklearn.pipeline import make_pipeline\n",
    "from sklearn.metrics import classification_report, roc_auc_score, roc_curve\n",
    "\n",
    "from math import ceil"
   ]
  },
  {
   "cell_type": "code",
   "execution_count": 2,
   "metadata": {},
   "outputs": [],
   "source": [
    "leads = pd.read_csv('leads_cleaned_2.csv', index_col=0)"
   ]
  },
  {
   "cell_type": "code",
   "execution_count": 3,
   "metadata": {},
   "outputs": [
    {
     "name": "stdout",
     "output_type": "stream",
     "text": [
      "lead_number          int64\n",
      "origin              object\n",
      "source              object\n",
      "no_email             int64\n",
      "converted            int64\n",
      "visits             float64\n",
      "visit_time           int64\n",
      "visit_pages        float64\n",
      "last_activity       object\n",
      "country             object\n",
      "specialization      object\n",
      "hear_about          object\n",
      "occupation          object\n",
      "search               int64\n",
      "recommendations      int64\n",
      "quality             object\n",
      "profile             object\n",
      "city                object\n",
      "activity_index       int64\n",
      "profile_index        int64\n",
      "mti_copy             int64\n",
      "modified             int64\n",
      "dtype: object\n"
     ]
    },
    {
     "data": {
      "text/html": [
       "<div>\n",
       "<style scoped>\n",
       "    .dataframe tbody tr th:only-of-type {\n",
       "        vertical-align: middle;\n",
       "    }\n",
       "\n",
       "    .dataframe tbody tr th {\n",
       "        vertical-align: top;\n",
       "    }\n",
       "\n",
       "    .dataframe thead th {\n",
       "        text-align: right;\n",
       "    }\n",
       "</style>\n",
       "<table border=\"1\" class=\"dataframe\">\n",
       "  <thead>\n",
       "    <tr style=\"text-align: right;\">\n",
       "      <th></th>\n",
       "      <th>lead_number</th>\n",
       "      <th>origin</th>\n",
       "      <th>source</th>\n",
       "      <th>no_email</th>\n",
       "      <th>converted</th>\n",
       "      <th>visits</th>\n",
       "      <th>visit_time</th>\n",
       "      <th>visit_pages</th>\n",
       "      <th>last_activity</th>\n",
       "      <th>country</th>\n",
       "      <th>...</th>\n",
       "      <th>occupation</th>\n",
       "      <th>search</th>\n",
       "      <th>recommendations</th>\n",
       "      <th>quality</th>\n",
       "      <th>profile</th>\n",
       "      <th>city</th>\n",
       "      <th>activity_index</th>\n",
       "      <th>profile_index</th>\n",
       "      <th>mti_copy</th>\n",
       "      <th>modified</th>\n",
       "    </tr>\n",
       "  </thead>\n",
       "  <tbody>\n",
       "    <tr>\n",
       "      <th>0</th>\n",
       "      <td>660737</td>\n",
       "      <td>API</td>\n",
       "      <td>Olark Chat</td>\n",
       "      <td>0</td>\n",
       "      <td>0</td>\n",
       "      <td>0.0</td>\n",
       "      <td>0</td>\n",
       "      <td>0.0</td>\n",
       "      <td>Page Visited on Website</td>\n",
       "      <td>Unknown</td>\n",
       "      <td>...</td>\n",
       "      <td>Unemployed</td>\n",
       "      <td>0</td>\n",
       "      <td>0</td>\n",
       "      <td>Low in Relevance</td>\n",
       "      <td>Unknown</td>\n",
       "      <td>Unknown</td>\n",
       "      <td>2</td>\n",
       "      <td>2</td>\n",
       "      <td>0</td>\n",
       "      <td>1</td>\n",
       "    </tr>\n",
       "    <tr>\n",
       "      <th>1</th>\n",
       "      <td>660728</td>\n",
       "      <td>API</td>\n",
       "      <td>Organic Search</td>\n",
       "      <td>0</td>\n",
       "      <td>0</td>\n",
       "      <td>5.0</td>\n",
       "      <td>674</td>\n",
       "      <td>2.5</td>\n",
       "      <td>Email Opened</td>\n",
       "      <td>India</td>\n",
       "      <td>...</td>\n",
       "      <td>Unemployed</td>\n",
       "      <td>0</td>\n",
       "      <td>0</td>\n",
       "      <td>Unknown</td>\n",
       "      <td>Unknown</td>\n",
       "      <td>Unknown</td>\n",
       "      <td>2</td>\n",
       "      <td>2</td>\n",
       "      <td>0</td>\n",
       "      <td>0</td>\n",
       "    </tr>\n",
       "    <tr>\n",
       "      <th>2</th>\n",
       "      <td>660727</td>\n",
       "      <td>Landing Page Submission</td>\n",
       "      <td>Direct Traffic</td>\n",
       "      <td>0</td>\n",
       "      <td>1</td>\n",
       "      <td>2.0</td>\n",
       "      <td>1532</td>\n",
       "      <td>2.0</td>\n",
       "      <td>Email Opened</td>\n",
       "      <td>India</td>\n",
       "      <td>...</td>\n",
       "      <td>Student</td>\n",
       "      <td>0</td>\n",
       "      <td>0</td>\n",
       "      <td>Might be</td>\n",
       "      <td>Potential Lead</td>\n",
       "      <td>Mumbai</td>\n",
       "      <td>2</td>\n",
       "      <td>3</td>\n",
       "      <td>1</td>\n",
       "      <td>0</td>\n",
       "    </tr>\n",
       "    <tr>\n",
       "      <th>3</th>\n",
       "      <td>660719</td>\n",
       "      <td>Landing Page Submission</td>\n",
       "      <td>Direct Traffic</td>\n",
       "      <td>0</td>\n",
       "      <td>0</td>\n",
       "      <td>1.0</td>\n",
       "      <td>305</td>\n",
       "      <td>1.0</td>\n",
       "      <td>Unreachable</td>\n",
       "      <td>India</td>\n",
       "      <td>...</td>\n",
       "      <td>Unemployed</td>\n",
       "      <td>0</td>\n",
       "      <td>0</td>\n",
       "      <td>Not Sure</td>\n",
       "      <td>Unknown</td>\n",
       "      <td>Mumbai</td>\n",
       "      <td>2</td>\n",
       "      <td>2</td>\n",
       "      <td>0</td>\n",
       "      <td>1</td>\n",
       "    </tr>\n",
       "    <tr>\n",
       "      <th>4</th>\n",
       "      <td>660681</td>\n",
       "      <td>Landing Page Submission</td>\n",
       "      <td>Google</td>\n",
       "      <td>0</td>\n",
       "      <td>1</td>\n",
       "      <td>2.0</td>\n",
       "      <td>1428</td>\n",
       "      <td>1.0</td>\n",
       "      <td>Converted to Lead</td>\n",
       "      <td>India</td>\n",
       "      <td>...</td>\n",
       "      <td>Unemployed</td>\n",
       "      <td>0</td>\n",
       "      <td>0</td>\n",
       "      <td>Might be</td>\n",
       "      <td>Unknown</td>\n",
       "      <td>Mumbai</td>\n",
       "      <td>2</td>\n",
       "      <td>3</td>\n",
       "      <td>0</td>\n",
       "      <td>1</td>\n",
       "    </tr>\n",
       "  </tbody>\n",
       "</table>\n",
       "<p>5 rows × 22 columns</p>\n",
       "</div>"
      ],
      "text/plain": [
       "   lead_number                   origin          source  no_email  converted  \\\n",
       "0       660737                      API      Olark Chat         0          0   \n",
       "1       660728                      API  Organic Search         0          0   \n",
       "2       660727  Landing Page Submission  Direct Traffic         0          1   \n",
       "3       660719  Landing Page Submission  Direct Traffic         0          0   \n",
       "4       660681  Landing Page Submission          Google         0          1   \n",
       "\n",
       "   visits  visit_time  visit_pages            last_activity  country  ...  \\\n",
       "0     0.0           0          0.0  Page Visited on Website  Unknown  ...   \n",
       "1     5.0         674          2.5             Email Opened    India  ...   \n",
       "2     2.0        1532          2.0             Email Opened    India  ...   \n",
       "3     1.0         305          1.0              Unreachable    India  ...   \n",
       "4     2.0        1428          1.0        Converted to Lead    India  ...   \n",
       "\n",
       "   occupation search recommendations           quality         profile  \\\n",
       "0  Unemployed      0               0  Low in Relevance         Unknown   \n",
       "1  Unemployed      0               0           Unknown         Unknown   \n",
       "2     Student      0               0          Might be  Potential Lead   \n",
       "3  Unemployed      0               0          Not Sure         Unknown   \n",
       "4  Unemployed      0               0          Might be         Unknown   \n",
       "\n",
       "      city activity_index profile_index  mti_copy  modified  \n",
       "0  Unknown              2             2         0         1  \n",
       "1  Unknown              2             2         0         0  \n",
       "2   Mumbai              2             3         1         0  \n",
       "3   Mumbai              2             2         0         1  \n",
       "4   Mumbai              2             3         0         1  \n",
       "\n",
       "[5 rows x 22 columns]"
      ]
     },
     "execution_count": 3,
     "metadata": {},
     "output_type": "execute_result"
    }
   ],
   "source": [
    "print(leads.dtypes)\n",
    "leads.head()"
   ]
  },
  {
   "cell_type": "markdown",
   "metadata": {},
   "source": [
    "### Encoding Categorical Variables\n",
    "Our dataset includes 10 categorical variables that still need to be encoded. These are all nominal categories (our two ordinal categories have already been encoded), and can be handled with One Hot Encoding. However, some of these categories (such as country and source) have rather high cardinality, so it may be useful later to see if combining some of the low-count values improves our model."
   ]
  },
  {
   "cell_type": "code",
   "execution_count": 4,
   "metadata": {},
   "outputs": [
    {
     "data": {
      "text/plain": [
       "origin             5\n",
       "source            21\n",
       "last_activity     18\n",
       "country           39\n",
       "specialization    19\n",
       "hear_about        10\n",
       "occupation         7\n",
       "quality            6\n",
       "profile            6\n",
       "city               7\n",
       "dtype: int64"
      ]
     },
     "execution_count": 4,
     "metadata": {},
     "output_type": "execute_result"
    }
   ],
   "source": [
    "# Checking the cardinality of categorical variables. For now, we will leave them as-is.\n",
    "leads.select_dtypes(include=['object']).nunique()"
   ]
  },
  {
   "cell_type": "code",
   "execution_count": 5,
   "metadata": {
    "scrolled": false
   },
   "outputs": [
    {
     "data": {
      "text/plain": [
       "(9240, 150)"
      ]
     },
     "execution_count": 5,
     "metadata": {},
     "output_type": "execute_result"
    }
   ],
   "source": [
    "leads = pd.get_dummies(leads)\n",
    "leads.shape"
   ]
  },
  {
   "cell_type": "code",
   "execution_count": 6,
   "metadata": {},
   "outputs": [
    {
     "data": {
      "text/plain": [
       "(9240, 141)"
      ]
     },
     "execution_count": 6,
     "metadata": {},
     "output_type": "execute_result"
    }
   ],
   "source": [
    "# We can delete the 'Unknown' columns, as a 0 in all other columns already contains that information.\n",
    "for col in leads.columns:\n",
    "    if 'Unknown' in col:\n",
    "        leads.drop(col, axis=1, inplace=True)\n",
    "\n",
    "leads.shape"
   ]
  },
  {
   "cell_type": "code",
   "execution_count": 7,
   "metadata": {},
   "outputs": [],
   "source": [
    "# To begin modeling, we'll separate our dependent variable y, and remove the lead_number column (we don't want this id\n",
    "# column to influence our model, since any possible correlation with this dataset won't help us with future predictions).\n",
    "y = leads.converted\n",
    "X = leads.drop(['converted', 'lead_number'], axis=1)"
   ]
  },
  {
   "cell_type": "markdown",
   "metadata": {},
   "source": [
    "# PCA\n",
    "Before we begin, we can check whether our data can be simplified through dimension reduction. If we can reduce the dimensionality of our data, it could make distance-based models more effective."
   ]
  },
  {
   "cell_type": "code",
   "execution_count": 8,
   "metadata": {},
   "outputs": [],
   "source": [
    "# First we must scale the data to standardize variance of each feature.\n",
    "scaler = StandardScaler()\n",
    "X_scaled = scaler.fit_transform(X)"
   ]
  },
  {
   "cell_type": "code",
   "execution_count": 9,
   "metadata": {},
   "outputs": [
    {
     "data": {
      "text/plain": [
       "<AxesSubplot:xlabel='1', ylabel='2'>"
      ]
     },
     "execution_count": 9,
     "metadata": {},
     "output_type": "execute_result"
    },
    {
     "data": {
      "image/png": "[encoded data removed]",
      "text/plain": [
       "<Figure size 432x288 with 1 Axes>"
      ]
     },
     "metadata": {
      "needs_background": "light"
     },
     "output_type": "display_data"
    }
   ],
   "source": [
    "pca = PCA()\n",
    "X_pca = pca.fit_transform(X_scaled)\n",
    "\n",
    "pca_df = pd.DataFrame(X_pca, columns=[str(n+1) for n in range(139)])\n",
    "pca_df['labels'] = y\n",
    "\n",
    "sns.scatterplot(data=pca_df, x='1', y='2', hue='labels', alpha=0.3)"
   ]
  },
  {
   "cell_type": "markdown",
   "metadata": {},
   "source": [
    "It looks like there is some significance to the second principal component (on the y axis) in relation to the dependent variable"
   ]
  },
  {
   "cell_type": "code",
   "execution_count": 10,
   "metadata": {},
   "outputs": [
    {
     "data": {
      "image/png": "[encoded data removed]",
      "text/plain": [
       "<Figure size 1080x432 with 2 Axes>"
      ]
     },
     "metadata": {
      "needs_background": "light"
     },
     "output_type": "display_data"
    }
   ],
   "source": [
    "# Let's look at the first 20 components and plot the explained variance\n",
    "plt.figure(figsize=(15, 6))\n",
    "plt.subplot(1, 2, 1)\n",
    "plt.plot(range(20), pca.explained_variance_ratio_[:20])\n",
    "plt.title('Explained Var. for first 20 Components')\n",
    "plt.xlabel('nth principal component')\n",
    "plt.ylabel('Pct. variance explained')\n",
    "plt.xticks(range(0, 20, 1))\n",
    "plt.grid(axis='x')\n",
    "\n",
    "# And now to see the cumulative explained variance over all components\n",
    "ev_cumulative = [0]\n",
    "for i, ev in enumerate(pca.explained_variance_ratio_):\n",
    "    ev_cumulative.append(ev_cumulative[i] + ev)\n",
    "\n",
    "plt.subplot(1, 2, 2)\n",
    "plt.plot(range(len(ev_cumulative)), ev_cumulative)\n",
    "plt.title('Cumulative Explained Variance for all Components')\n",
    "plt.xlabel('nth principal component')\n",
    "plt.ylabel('Total variance explained')\n",
    "plt.grid(axis='y')\n",
    "plt.show()"
   ]
  },
  {
   "cell_type": "markdown",
   "metadata": {},
   "source": [
    "Judging from these graphs, although the gain in variance explained does level off after the fourth component, those components still only account for less than 15% of the variance. In order not to lose too much information from the data, we shouldn't reduce the dimensionality that much.\n",
    "\n",
    "Furthermore, by not using PCA to reduce the dimensions of our data, we are able to maintain a strong interpretability of our results. This will help towards one of the main goals of this project, which is to identify specific features that the marketing team can target in order to achieve greater quality of leads overall."
   ]
  },
  {
   "cell_type": "markdown",
   "metadata": {},
   "source": [
    "# Logistic Regression\n",
    "\n",
    "The goal of this project is to be able to assign a score of likelihood of conversion for each new lead, based on the information collected. To do this, we will try a few different models to see which gives us the best predictive capabilities."
   ]
  },
  {
   "cell_type": "code",
   "execution_count": 11,
   "metadata": {},
   "outputs": [],
   "source": [
    "X_train, X_test, y_train, y_test = train_test_split(X, y, test_size=0.2, random_state=42)"
   ]
  },
  {
   "cell_type": "code",
   "execution_count": 12,
   "metadata": {},
   "outputs": [],
   "source": [
    "scaler = StandardScaler()\n",
    "lr_model = LogisticRegression(solver='liblinear', max_iter=200)\n",
    "lr_pipeline = make_pipeline(scaler, lr_model)"
   ]
  },
  {
   "cell_type": "code",
   "execution_count": 13,
   "metadata": {},
   "outputs": [
    {
     "data": {
      "text/plain": [
       "{'logisticregression__C': 0.01}"
      ]
     },
     "execution_count": 13,
     "metadata": {},
     "output_type": "execute_result"
    }
   ],
   "source": [
    "# Find the best value for the regularization parameter C, optimizing roc_auc\n",
    "c_dict = {'logisticregression__C':[0.001, 0.005, 0.01, 0.05, 0.1, 0.5, 1, 5, 10]}\n",
    "cv_model = GridSearchCV(lr_pipeline, c_dict, scoring='roc_auc')\n",
    "cv_model.fit(X_train, y_train)\n",
    "cv_model.best_params_"
   ]
  },
  {
   "cell_type": "code",
   "execution_count": 14,
   "metadata": {},
   "outputs": [],
   "source": [
    "# Redefine the pipeline with the best C=0.01\n",
    "scaler = StandardScaler()\n",
    "lr_model = LogisticRegression(solver='liblinear', C=0.01)\n",
    "lr_pipeline = make_pipeline(scaler, lr_model)"
   ]
  },
  {
   "cell_type": "code",
   "execution_count": 15,
   "metadata": {},
   "outputs": [
    {
     "name": "stdout",
     "output_type": "stream",
     "text": [
      "              precision    recall  f1-score   support\n",
      "\n",
      "           0       0.86      0.90      0.88      1107\n",
      "           1       0.84      0.79      0.81       741\n",
      "\n",
      "    accuracy                           0.85      1848\n",
      "   macro avg       0.85      0.84      0.85      1848\n",
      "weighted avg       0.85      0.85      0.85      1848\n",
      "\n"
     ]
    }
   ],
   "source": [
    "lr_pipeline.fit(X_train, y_train)\n",
    "preds = lr_pipeline.predict(X_test)\n",
    "print(classification_report(y_test, preds))"
   ]
  },
  {
   "cell_type": "code",
   "execution_count": 16,
   "metadata": {},
   "outputs": [
    {
     "data": {
      "image/png": "[encoded data removed]",
      "text/plain": [
       "<Figure size 432x288 with 1 Axes>"
      ]
     },
     "metadata": {
      "needs_background": "light"
     },
     "output_type": "display_data"
    }
   ],
   "source": [
    "pred_prob = lr_pipeline.predict_proba(X_test)[:,1]\n",
    "auc = round(roc_auc_score(y_test, pred_prob),3)\n",
    "fpr, tpr, thresholds = roc_curve(y_test, pred_prob)\n",
    "\n",
    "plt.plot([0, 1], [0, 1], 'k--')\n",
    "plt.plot(fpr, tpr)\n",
    "plt.xlabel('False Positive Rate')\n",
    "plt.ylabel('True Positive Rate')\n",
    "plt.title('ROC Curve')\n",
    "plt.annotate('AUC = '+str(auc), (0.2,0.6))\n",
    "plt.show()"
   ]
  },
  {
   "cell_type": "markdown",
   "metadata": {},
   "source": [
    "Here we see a nice ROC curve, showing that the Logistic Regression model achieves close to perfect True Positive rate with a reasonably low False Positive rate.\n",
    "\n",
    "Practically, we would rather spend time on a lead that does not convert than ignore a lead that could possibly convert. So, we should be willing to accept some False Positives if it means we won't miss any possible conversions. In other words, we want our model to have a high recall for positive cases. In the above classification report, we see our model had a recall for the positive case of about 80%. This is a decent score, though we should definitely look at other models to see if they can do better.\n",
    "\n",
    "But first, we should look at what kind of lead scores we would see using this model. When we compute scores for new leads, we will not actually need to assign a label. Instead, we will use the predicted probability of conversion as a score from 1-10 to indicate the strength of each lead (essentially, binning each new lead into a group with a particular likelihood of conversion).\n",
    "\n",
    "Although our model will of course have some erroneous predictions for individual leads, it is more important for our purposes to check whether the predicted probabilities will match actual conversion rates for new leads."
   ]
  },
  {
   "cell_type": "code",
   "execution_count": 17,
   "metadata": {},
   "outputs": [
    {
     "data": {
      "text/html": [
       "<div>\n",
       "<style scoped>\n",
       "    .dataframe tbody tr th:only-of-type {\n",
       "        vertical-align: middle;\n",
       "    }\n",
       "\n",
       "    .dataframe tbody tr th {\n",
       "        vertical-align: top;\n",
       "    }\n",
       "\n",
       "    .dataframe thead th {\n",
       "        text-align: right;\n",
       "    }\n",
       "</style>\n",
       "<table border=\"1\" class=\"dataframe\">\n",
       "  <thead>\n",
       "    <tr style=\"text-align: right;\">\n",
       "      <th></th>\n",
       "      <th>converted</th>\n",
       "      <th>predicted</th>\n",
       "      <th>probability</th>\n",
       "      <th>lead_score</th>\n",
       "    </tr>\n",
       "  </thead>\n",
       "  <tbody>\n",
       "    <tr>\n",
       "      <th>4608</th>\n",
       "      <td>1</td>\n",
       "      <td>0</td>\n",
       "      <td>0.177138</td>\n",
       "      <td>2</td>\n",
       "    </tr>\n",
       "    <tr>\n",
       "      <th>7935</th>\n",
       "      <td>0</td>\n",
       "      <td>0</td>\n",
       "      <td>0.050245</td>\n",
       "      <td>1</td>\n",
       "    </tr>\n",
       "    <tr>\n",
       "      <th>4043</th>\n",
       "      <td>0</td>\n",
       "      <td>0</td>\n",
       "      <td>0.021582</td>\n",
       "      <td>1</td>\n",
       "    </tr>\n",
       "    <tr>\n",
       "      <th>7821</th>\n",
       "      <td>0</td>\n",
       "      <td>0</td>\n",
       "      <td>0.216316</td>\n",
       "      <td>3</td>\n",
       "    </tr>\n",
       "    <tr>\n",
       "      <th>856</th>\n",
       "      <td>0</td>\n",
       "      <td>0</td>\n",
       "      <td>0.089381</td>\n",
       "      <td>1</td>\n",
       "    </tr>\n",
       "    <tr>\n",
       "      <th>927</th>\n",
       "      <td>0</td>\n",
       "      <td>0</td>\n",
       "      <td>0.213813</td>\n",
       "      <td>3</td>\n",
       "    </tr>\n",
       "    <tr>\n",
       "      <th>318</th>\n",
       "      <td>1</td>\n",
       "      <td>1</td>\n",
       "      <td>0.970389</td>\n",
       "      <td>10</td>\n",
       "    </tr>\n",
       "    <tr>\n",
       "      <th>1018</th>\n",
       "      <td>0</td>\n",
       "      <td>0</td>\n",
       "      <td>0.073293</td>\n",
       "      <td>1</td>\n",
       "    </tr>\n",
       "    <tr>\n",
       "      <th>8151</th>\n",
       "      <td>0</td>\n",
       "      <td>0</td>\n",
       "      <td>0.256033</td>\n",
       "      <td>3</td>\n",
       "    </tr>\n",
       "    <tr>\n",
       "      <th>1570</th>\n",
       "      <td>1</td>\n",
       "      <td>1</td>\n",
       "      <td>0.970359</td>\n",
       "      <td>10</td>\n",
       "    </tr>\n",
       "  </tbody>\n",
       "</table>\n",
       "</div>"
      ],
      "text/plain": [
       "      converted  predicted  probability  lead_score\n",
       "4608          1          0     0.177138           2\n",
       "7935          0          0     0.050245           1\n",
       "4043          0          0     0.021582           1\n",
       "7821          0          0     0.216316           3\n",
       "856           0          0     0.089381           1\n",
       "927           0          0     0.213813           3\n",
       "318           1          1     0.970389          10\n",
       "1018          0          0     0.073293           1\n",
       "8151          0          0     0.256033           3\n",
       "1570          1          1     0.970359          10"
      ]
     },
     "execution_count": 17,
     "metadata": {},
     "output_type": "execute_result"
    }
   ],
   "source": [
    "# Converting predicted probabilities to scores.\n",
    "probs = lr_pipeline.predict_proba(X_test)[:,1]\n",
    "test_scores = pd.DataFrame({'converted':y_test, 'predicted':preds, 'probability':probs}, index=y_test.index)\n",
    "scores = [ceil(p * 10) for p in probs]\n",
    "test_scores['lead_score'] = scores\n",
    "test_scores.head(10)"
   ]
  },
  {
   "cell_type": "code",
   "execution_count": 18,
   "metadata": {},
   "outputs": [
    {
     "name": "stdout",
     "output_type": "stream",
     "text": [
      "Lead Score 1: 1.8% (of 547) conversion in test set\n",
      "Lead Score 2: 11.2% (of 277) conversion in test set\n",
      "Lead Score 3: 23.5% (of 153) conversion in test set\n",
      "Lead Score 4: 38.1% (of 97) conversion in test set\n",
      "Lead Score 5: 56.8% (of 74) conversion in test set\n",
      "Lead Score 6: 50.0% (of 94) conversion in test set\n",
      "Lead Score 7: 67.6% (of 74) conversion in test set\n",
      "Lead Score 8: 77.8% (of 90) conversion in test set\n",
      "Lead Score 9: 92.0% (of 138) conversion in test set\n",
      "Lead Score 10: 95.7% (of 304) conversion in test set\n"
     ]
    }
   ],
   "source": [
    "for score in set(scores):\n",
    "    group = test_scores[test_scores.lead_score==score]\n",
    "    group_size = len(group)\n",
    "    conversion_rate = group.converted.sum()/group_size\n",
    "    print(\"Lead Score {}: {}% (of {}) conversion in test set\".format(score, round(conversion_rate*100,1), group_size))"
   ]
  },
  {
   "cell_type": "markdown",
   "metadata": {},
   "source": [
    "Roughly, we want the numerical lead score to correspond to the probability of conversion (that is, a score of 5 means 50% chance of success). The actual conversion rates above show that the score is less reliable for the lower scores. This might be acceptible, since we would tend to deprioritize low-scoring leads either way.\n",
    "\n",
    "In this sample, the 5s actually converted more often than 6s. This could, of course, be due to the limited sample of the test data, since these groups have relatively few examples represented. Still, we should expect to see a higher rate among the 6s.\n",
    "\n",
    "Finally, before moving on, let's look at the coefficients of the Logistic Regression model to see which features were most important."
   ]
  },
  {
   "cell_type": "code",
   "execution_count": 19,
   "metadata": {},
   "outputs": [
    {
     "data": {
      "text/html": [
       "<div>\n",
       "<style scoped>\n",
       "    .dataframe tbody tr th:only-of-type {\n",
       "        vertical-align: middle;\n",
       "    }\n",
       "\n",
       "    .dataframe tbody tr th {\n",
       "        vertical-align: top;\n",
       "    }\n",
       "\n",
       "    .dataframe thead th {\n",
       "        text-align: right;\n",
       "    }\n",
       "</style>\n",
       "<table border=\"1\" class=\"dataframe\">\n",
       "  <thead>\n",
       "    <tr style=\"text-align: right;\">\n",
       "      <th></th>\n",
       "      <th>feature</th>\n",
       "      <th>coef_dir</th>\n",
       "      <th>coef_abs</th>\n",
       "    </tr>\n",
       "  </thead>\n",
       "  <tbody>\n",
       "    <tr>\n",
       "      <th>2</th>\n",
       "      <td>visit_time</td>\n",
       "      <td>True</td>\n",
       "      <td>0.870285</td>\n",
       "    </tr>\n",
       "    <tr>\n",
       "      <th>123</th>\n",
       "      <td>quality_High in Relevance</td>\n",
       "      <td>True</td>\n",
       "      <td>0.616709</td>\n",
       "    </tr>\n",
       "    <tr>\n",
       "      <th>47</th>\n",
       "      <td>last_activity_SMS Sent</td>\n",
       "      <td>True</td>\n",
       "      <td>0.472091</td>\n",
       "    </tr>\n",
       "    <tr>\n",
       "      <th>122</th>\n",
       "      <td>occupation_Working Professional</td>\n",
       "      <td>True</td>\n",
       "      <td>0.469252</td>\n",
       "    </tr>\n",
       "    <tr>\n",
       "      <th>125</th>\n",
       "      <td>quality_Might be</td>\n",
       "      <td>True</td>\n",
       "      <td>0.438111</td>\n",
       "    </tr>\n",
       "    <tr>\n",
       "      <th>124</th>\n",
       "      <td>quality_Low in Relevance</td>\n",
       "      <td>True</td>\n",
       "      <td>0.409947</td>\n",
       "    </tr>\n",
       "    <tr>\n",
       "      <th>127</th>\n",
       "      <td>quality_Worst</td>\n",
       "      <td>False</td>\n",
       "      <td>0.362053</td>\n",
       "    </tr>\n",
       "    <tr>\n",
       "      <th>29</th>\n",
       "      <td>source_Welingak Website</td>\n",
       "      <td>True</td>\n",
       "      <td>0.328339</td>\n",
       "    </tr>\n",
       "    <tr>\n",
       "      <th>44</th>\n",
       "      <td>last_activity_Olark Chat Conversation</td>\n",
       "      <td>False</td>\n",
       "      <td>0.305329</td>\n",
       "    </tr>\n",
       "    <tr>\n",
       "      <th>9</th>\n",
       "      <td>modified</td>\n",
       "      <td>False</td>\n",
       "      <td>0.300476</td>\n",
       "    </tr>\n",
       "    <tr>\n",
       "      <th>121</th>\n",
       "      <td>occupation_Unemployed</td>\n",
       "      <td>True</td>\n",
       "      <td>0.271215</td>\n",
       "    </tr>\n",
       "    <tr>\n",
       "      <th>131</th>\n",
       "      <td>profile_Potential Lead</td>\n",
       "      <td>True</td>\n",
       "      <td>0.266171</td>\n",
       "    </tr>\n",
       "    <tr>\n",
       "      <th>12</th>\n",
       "      <td>origin_Lead Add Form</td>\n",
       "      <td>True</td>\n",
       "      <td>0.259034</td>\n",
       "    </tr>\n",
       "    <tr>\n",
       "      <th>6</th>\n",
       "      <td>activity_index</td>\n",
       "      <td>True</td>\n",
       "      <td>0.251042</td>\n",
       "    </tr>\n",
       "    <tr>\n",
       "      <th>0</th>\n",
       "      <td>no_email</td>\n",
       "      <td>False</td>\n",
       "      <td>0.218266</td>\n",
       "    </tr>\n",
       "    <tr>\n",
       "      <th>64</th>\n",
       "      <td>country_India</td>\n",
       "      <td>False</td>\n",
       "      <td>0.196324</td>\n",
       "    </tr>\n",
       "    <tr>\n",
       "      <th>126</th>\n",
       "      <td>quality_Not Sure</td>\n",
       "      <td>False</td>\n",
       "      <td>0.166811</td>\n",
       "    </tr>\n",
       "    <tr>\n",
       "      <th>3</th>\n",
       "      <td>visit_pages</td>\n",
       "      <td>False</td>\n",
       "      <td>0.162536</td>\n",
       "    </tr>\n",
       "    <tr>\n",
       "      <th>11</th>\n",
       "      <td>origin_Landing Page Submission</td>\n",
       "      <td>False</td>\n",
       "      <td>0.150018</td>\n",
       "    </tr>\n",
       "    <tr>\n",
       "      <th>16</th>\n",
       "      <td>source_Direct Traffic</td>\n",
       "      <td>False</td>\n",
       "      <td>0.127233</td>\n",
       "    </tr>\n",
       "  </tbody>\n",
       "</table>\n",
       "</div>"
      ],
      "text/plain": [
       "                                   feature  coef_dir  coef_abs\n",
       "2                               visit_time      True  0.870285\n",
       "123              quality_High in Relevance      True  0.616709\n",
       "47                  last_activity_SMS Sent      True  0.472091\n",
       "122        occupation_Working Professional      True  0.469252\n",
       "125                       quality_Might be      True  0.438111\n",
       "124               quality_Low in Relevance      True  0.409947\n",
       "127                          quality_Worst     False  0.362053\n",
       "29                 source_Welingak Website      True  0.328339\n",
       "44   last_activity_Olark Chat Conversation     False  0.305329\n",
       "9                                 modified     False  0.300476\n",
       "121                  occupation_Unemployed      True  0.271215\n",
       "131                 profile_Potential Lead      True  0.266171\n",
       "12                    origin_Lead Add Form      True  0.259034\n",
       "6                           activity_index      True  0.251042\n",
       "0                                 no_email     False  0.218266\n",
       "64                           country_India     False  0.196324\n",
       "126                       quality_Not Sure     False  0.166811\n",
       "3                              visit_pages     False  0.162536\n",
       "11          origin_Landing Page Submission     False  0.150018\n",
       "16                   source_Direct Traffic     False  0.127233"
      ]
     },
     "execution_count": 19,
     "metadata": {},
     "output_type": "execute_result"
    }
   ],
   "source": [
    "coefs = lr_pipeline['logisticregression'].coef_[0]\n",
    "coef_df = pd.DataFrame({'feature':X.columns, 'coef_dir':coefs>=0, 'coef_abs':abs(coefs)})\n",
    "coef_df.sort_values('coef_abs', ascending=False).head(20)"
   ]
  },
  {
   "cell_type": "markdown",
   "metadata": {},
   "source": [
    "We see the most important feature by far is visit_time, followed by leads marked as high-quality.\n",
    "\n",
    "The 'quality' field appears several times in these top features, which makes sense. Recall that quality was defined as \"the quality of lead based on the data and intuition the the employee who has been assigned to the lead.\" This column, then, is itself a subjective lead score given by sales staff.\n",
    "\n",
    "The information from this column is clearly important to our model, and we don't want to lose it. However, it should be noted that this may be a problem if we want to use our model for assigning leads - we won't have this information until after the lead is assigned! Instead, I suggest either (a) Have staff quickly give a first impression of quality for all new leads before scoring and assigning the lead, or (b) distribute leads randomly, then score and redistribute leads once this category can be filled."
   ]
  },
  {
   "cell_type": "markdown",
   "metadata": {},
   "source": [
    "# Random Forest\n",
    "Next, we'll try a Random Forest model and see if we can improve our scoring system."
   ]
  },
  {
   "cell_type": "code",
   "execution_count": 23,
   "metadata": {},
   "outputs": [],
   "source": [
    "from sklearn.ensemble import RandomForestClassifier"
   ]
  },
  {
   "cell_type": "code",
   "execution_count": 38,
   "metadata": {},
   "outputs": [],
   "source": [
    "rf_scaler = StandardScaler()\n",
    "rf_model = RandomForestClassifier(random_state=0)\n",
    "rf_pipeline = make_pipeline(rf_scaler, rf_model)"
   ]
  },
  {
   "cell_type": "code",
   "execution_count": 64,
   "metadata": {},
   "outputs": [
    {
     "data": {
      "text/plain": [
       "{'randomforestclassifier__max_depth': 15,\n",
       " 'randomforestclassifier__max_features': 'auto',\n",
       " 'randomforestclassifier__n_estimators': 200}"
      ]
     },
     "execution_count": 64,
     "metadata": {},
     "output_type": "execute_result"
    }
   ],
   "source": [
    "# Find the best value for 25\n",
    "param_dict = {'randomforestclassifier__n_estimators':[100, 200],\n",
    "             'randomforestclassifier__max_depth':[5, 10, 15, 20],\n",
    "             'randomforestclassifier__max_features':['auto', 10, 20]\n",
    "             }\n",
    "cv_model = GridSearchCV(rf_pipeline, param_dict, scoring='roc_auc')\n",
    "cv_model.fit(X_train, y_train)\n",
    "cv_model.best_params_"
   ]
  },
  {
   "cell_type": "code",
   "execution_count": 70,
   "metadata": {},
   "outputs": [
    {
     "data": {
      "text/plain": [
       "Pipeline(memory=None,\n",
       "         steps=[('standardscaler',\n",
       "                 StandardScaler(copy=True, with_mean=True, with_std=True)),\n",
       "                ('randomforestclassifier',\n",
       "                 RandomForestClassifier(bootstrap=True, ccp_alpha=0.0,\n",
       "                                        class_weight=None, criterion='gini',\n",
       "                                        max_depth=15, max_features='auto',\n",
       "                                        max_leaf_nodes=None, max_samples=None,\n",
       "                                        min_impurity_decrease=0.0,\n",
       "                                        min_impurity_split=None,\n",
       "                                        min_samples_leaf=1, min_samples_split=2,\n",
       "                                        min_weight_fraction_leaf=0.0,\n",
       "                                        n_estimators=200, n_jobs=None,\n",
       "                                        oob_score=False, random_state=0,\n",
       "                                        verbose=0, warm_start=False))],\n",
       "         verbose=False)"
      ]
     },
     "execution_count": 70,
     "metadata": {},
     "output_type": "execute_result"
    }
   ],
   "source": [
    "rf_model = RandomForestClassifier(random_state=0, max_depth=15, n_estimators=200)\n",
    "rf_pipeline = make_pipeline(rf_scaler, rf_model)\n",
    "rf_pipeline.fit(X_train, y_train)"
   ]
  },
  {
   "cell_type": "code",
   "execution_count": 72,
   "metadata": {},
   "outputs": [
    {
     "name": "stdout",
     "output_type": "stream",
     "text": [
      "              precision    recall  f1-score   support\n",
      "\n",
      "           0       0.86      0.92      0.89      1107\n",
      "           1       0.87      0.77      0.82       741\n",
      "\n",
      "    accuracy                           0.86      1848\n",
      "   macro avg       0.86      0.85      0.85      1848\n",
      "weighted avg       0.86      0.86      0.86      1848\n",
      "\n"
     ]
    }
   ],
   "source": [
    "preds = rf_pipeline.predict(X_test)\n",
    "print(classification_report(y_test, preds))"
   ]
  },
  {
   "cell_type": "code",
   "execution_count": 75,
   "metadata": {},
   "outputs": [
    {
     "data": {
      "image/png": "[encoded data removed]",
      "text/plain": [
       "<Figure size 432x288 with 1 Axes>"
      ]
     },
     "metadata": {
      "needs_background": "light"
     },
     "output_type": "display_data"
    }
   ],
   "source": [
    "probs = rf_pipeline.predict_proba(X_test)[:,1]\n",
    "auc = round(roc_auc_score(y_test, probs),3)\n",
    "fpr, tpr, thresholds = roc_curve(y_test, probs)\n",
    "\n",
    "plt.plot([0, 1], [0, 1], 'k--')\n",
    "plt.plot(fpr, tpr)\n",
    "plt.xlabel('False Positive Rate')\n",
    "plt.ylabel('True Positive Rate')\n",
    "plt.title('ROC Curve')\n",
    "plt.annotate('AUC = '+str(auc), (0.2,0.6))\n",
    "plt.show()"
   ]
  },
  {
   "cell_type": "code",
   "execution_count": 77,
   "metadata": {},
   "outputs": [
    {
     "name": "stdout",
     "output_type": "stream",
     "text": [
      "Lead Score 1: 1.3% (of 464) conversion in test set\n",
      "Lead Score 2: 8.1% (of 307) conversion in test set\n",
      "Lead Score 3: 15.5% (of 155) conversion in test set\n",
      "Lead Score 4: 37.7% (of 154) conversion in test set\n",
      "Lead Score 5: 52.3% (of 109) conversion in test set\n",
      "Lead Score 6: 57.1% (of 84) conversion in test set\n",
      "Lead Score 7: 73.6% (of 121) conversion in test set\n",
      "Lead Score 8: 91.1% (of 124) conversion in test set\n",
      "Lead Score 9: 95.6% (of 136) conversion in test set\n",
      "Lead Score 10: 98.5% (of 194) conversion in test set\n"
     ]
    }
   ],
   "source": [
    "# Converting predicted probabilities to scores.\n",
    "test_scores = pd.DataFrame({'converted':y_test, 'predicted':preds, 'probability':probs}, index=y_test.index)\n",
    "scores = [ceil(p * 10) for p in probs]\n",
    "test_scores['lead_score'] = scores\n",
    "\n",
    "for score in set(scores):\n",
    "    group = test_scores[test_scores.lead_score==score]\n",
    "    group_size = len(group)\n",
    "    conversion_rate = group.converted.sum()/group_size\n",
    "    print(\"Lead Score {}: {}% (of {}) conversion in test set\".format(score, round(conversion_rate*100,1), group_size))"
   ]
  },
  {
   "cell_type": "markdown",
   "metadata": {},
   "source": [
    "The f1 scores for this Random Forest model is slightly higher than the Logistic Regression scores. However, our target of recall for positive cases is slightly lower.\n",
    "\n",
    "Looking at the actual conversion rates for each lead score group, again the low scoring leads have lower than expected conversion. The conversion rate for 8s is higher than expected using this model. Also, compared with the Logistic Regression model, this model esparates the groups into more even sizes."
   ]
  },
  {
   "cell_type": "code",
   "execution_count": null,
   "metadata": {},
   "outputs": [],
   "source": []
  }
 ],
 "metadata": {
  "kernelspec": {
   "display_name": "Python 3",
   "language": "python",
   "name": "python3"
  },
  "language_info": {
   "codemirror_mode": {
    "name": "ipython",
    "version": 3
   },
   "file_extension": ".py",
   "mimetype": "text/x-python",
   "name": "python",
   "nbconvert_exporter": "python",
   "pygments_lexer": "ipython3",
   "version": "3.7.6"
  }
 },
 "nbformat": 4,
 "nbformat_minor": 4
}
